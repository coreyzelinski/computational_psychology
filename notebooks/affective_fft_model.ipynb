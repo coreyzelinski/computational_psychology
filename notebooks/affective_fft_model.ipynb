{
 "cells": [
  {
   "cell_type": "markdown",
   "id": "14395e55",
   "metadata": {},
   "source": [
    "# Affective Computational Psychology Model\n",
    "**Notebook: affective_fft_model.ipynb**  \n",
    "\n",
    "**Author:** Corey Vincent Zelinski  \n",
    "**Email:** Corey.Zelinski@IEEE.org  \n",
    "**(C) Copyright 2024–2025 Corey Vincent Zelinski. All rights reserved.**\n",
    "\n",
    "This notebook visualizes empirical simulation outputs from the hybrid behavioral model.\n",
    "It includes time-series plots for posterior beliefs and predicted transition probabilities.\n",
    "FFT or spectral analysis is used to detect affective periodicity or signal structure."
   ]
  },
  {
   "cell_type": "code",
   "execution_count": null,
   "id": "2cf3fba2",
   "metadata": {},
   "outputs": [],
   "source": [
    "from scripts.run_simulation import simulate_session\n",
    "import numpy as np\n",
    "import matplotlib.pyplot as plt\n",
    "\n",
    "# Run the model for 50 steps\n",
    "belief_log, transition_log = simulate_session(steps=50)\n",
    "\n",
    "# Convert to arrays\n",
    "belief_arr = np.array(belief_log)\n",
    "transition_arr = np.array(transition_log)"
   ]
  },
  {
   "cell_type": "code",
   "execution_count": null,
   "id": "090c435f",
   "metadata": {},
   "outputs": [],
   "source": [
    "plt.figure(figsize=(10, 5))\n",
    "for i in range(belief_arr.shape[1]):\n",
    "    plt.plot(belief_arr[:, i], label=f'State {i}')\n",
    "plt.title('Posterior Belief Evolution')\n",
    "plt.xlabel('Time Step')\n",
    "plt.ylabel('Belief Probability')\n",
    "plt.legend()\n",
    "plt.grid(True)\n",
    "plt.show()"
   ]
  },
  {
   "cell_type": "code",
   "execution_count": null,
   "id": "68af1eb3",
   "metadata": {},
   "outputs": [],
   "source": [
    "plt.figure(figsize=(10, 5))\n",
    "for i in range(transition_arr.shape[1]):\n",
    "    plt.plot(transition_arr[:, i], label=f'Transition to {i}')\n",
    "plt.title('Predicted Transition Probabilities')\n",
    "plt.xlabel('Time Step')\n",
    "plt.ylabel('Probability')\n",
    "plt.legend()\n",
    "plt.grid(True)\n",
    "plt.show()"
   ]
  },
  {
   "cell_type": "code",
   "execution_count": null,
   "id": "1142f8e0",
   "metadata": {},
   "outputs": [],
   "source": [
    "from numpy.fft import fft, fftfreq\n",
    "\n",
    "# Analyze spectral components of belief in state 1 over time\n",
    "signal = belief_arr[:, 1]  # Belief trajectory for state 1\n",
    "\n",
    "# FFT computation\n",
    "fft_result = fft(signal)\n",
    "power_spectrum = np.abs(fft_result)\n",
    "freqs = fftfreq(len(signal), d=1)  # Frequencies in cycles per step\n",
    "\n",
    "# Plot power spectrum\n",
    "plt.figure(figsize=(10, 4))\n",
    "plt.stem(freqs[:len(freqs)//2], power_spectrum[:len(power_spectrum)//2], use_line_collection=True)\n",
    "plt.title('Spectral Analysis: Power Spectrum of State 1 Belief')\n",
    "plt.xlabel('Frequency (1/steps)')\n",
    "plt.ylabel('Magnitude')\n",
    "plt.grid(True)\n",
    "plt.show()"
   ]
  }
 ],
 "metadata": {},
 "nbformat": 4,
 "nbformat_minor": 5
}